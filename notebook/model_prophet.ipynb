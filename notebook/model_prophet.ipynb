{
 "cells": [
  {
   "cell_type": "code",
   "execution_count": 1,
   "metadata": {
    "collapsed": true
   },
   "outputs": [
    {
     "name": "stderr",
     "output_type": "stream",
     "text": [
      "Importing plotly failed. Interactive plots will not work.\n"
     ]
    }
   ],
   "source": [
    "import pandas as pd\n",
    "from fbprophet import Prophet\n",
    "import matplotlib.pyplot as plt\n",
    "from sklearn.metrics import mean_squared_error\n",
    "from sklearn.metrics import mean_absolute_error\n",
    "from sklearn.metrics import r2_score\n",
    "# 往后预测多少天\n",
    "PEROIDS = 7"
   ]
  },
  {
   "cell_type": "code",
   "execution_count": 123,
   "outputs": [],
   "source": [
    "def read_csv(tableName,columnName):\n",
    "    df = pd.read_csv(tableName)\n",
    "    df = df.rename(columns={'WBL_AUD_DT':'ds',columnName:'y'})\n",
    "    df = df[['ds','y']]\n",
    "    df_train = df[0:len(df)-PEROIDS]\n",
    "    df_test = df[len(df)-PEROIDS:len(df)]\n",
    "    return df_test,df_train,len(df)\n",
    "df_test, df_train,length = read_csv('Yingkou_qinzhou_after_add.csv','AMT')\n",
    "harbor_pair = 'Yingkou_Qinzhou'\n",
    "time_series = 'AMT'\n",
    "pic_name = harbor_pair +'_' + time_series + '.png'\n",
    "\n",
    "\n"
   ],
   "metadata": {
    "collapsed": false,
    "pycharm": {
     "name": "#%%\n",
     "is_executing": false
    }
   }
  },
  {
   "cell_type": "code",
   "execution_count": 124,
   "outputs": [
    {
     "name": "stderr",
     "text": [
      "INFO:fbprophet:Disabling yearly seasonality. Run prophet with yearly_seasonality=True to override this.\n",
      "INFO:fbprophet:Disabling daily seasonality. Run prophet with daily_seasonality=True to override this.\n"
     ],
     "output_type": "stream"
    }
   ],
   "source": [
    "predictor = Prophet()\n",
    "predictor.fit(df_train)\n",
    "future = predictor.make_future_dataframe(periods = PEROIDS)\n"
   ],
   "metadata": {
    "collapsed": false,
    "pycharm": {
     "name": "#%%\n",
     "is_executing": false
    }
   }
  },
  {
   "cell_type": "code",
   "execution_count": 125,
   "outputs": [
    {
     "data": {
      "text/plain": "            ds         yhat   yhat_lower   yhat_upper\n226 2020-01-09  4614.030690  4229.160966  5016.559558\n227 2020-01-10  4602.378958  4214.654988  5005.345122\n228 2020-01-11  4607.746906  4214.570793  4980.753140\n229 2020-01-12  4618.984226  4242.154852  5004.761591\n230 2020-01-13  4677.647750  4284.675489  5049.488784",
      "text/html": "<div>\n<style scoped>\n    .dataframe tbody tr th:only-of-type {\n        vertical-align: middle;\n    }\n\n    .dataframe tbody tr th {\n        vertical-align: top;\n    }\n\n    .dataframe thead th {\n        text-align: right;\n    }\n</style>\n<table border=\"1\" class=\"dataframe\">\n  <thead>\n    <tr style=\"text-align: right;\">\n      <th></th>\n      <th>ds</th>\n      <th>yhat</th>\n      <th>yhat_lower</th>\n      <th>yhat_upper</th>\n    </tr>\n  </thead>\n  <tbody>\n    <tr>\n      <th>226</th>\n      <td>2020-01-09</td>\n      <td>4614.030690</td>\n      <td>4229.160966</td>\n      <td>5016.559558</td>\n    </tr>\n    <tr>\n      <th>227</th>\n      <td>2020-01-10</td>\n      <td>4602.378958</td>\n      <td>4214.654988</td>\n      <td>5005.345122</td>\n    </tr>\n    <tr>\n      <th>228</th>\n      <td>2020-01-11</td>\n      <td>4607.746906</td>\n      <td>4214.570793</td>\n      <td>4980.753140</td>\n    </tr>\n    <tr>\n      <th>229</th>\n      <td>2020-01-12</td>\n      <td>4618.984226</td>\n      <td>4242.154852</td>\n      <td>5004.761591</td>\n    </tr>\n    <tr>\n      <th>230</th>\n      <td>2020-01-13</td>\n      <td>4677.647750</td>\n      <td>4284.675489</td>\n      <td>5049.488784</td>\n    </tr>\n  </tbody>\n</table>\n</div>"
     },
     "metadata": {},
     "output_type": "execute_result",
     "execution_count": 125
    }
   ],
   "source": [
    "forecast = predictor.predict(future)\n",
    "forecast[['ds', 'yhat', 'yhat_lower', 'yhat_upper']].tail()\n"
   ],
   "metadata": {
    "collapsed": false,
    "pycharm": {
     "name": "#%%\n",
     "is_executing": false
    }
   }
  },
  {
   "cell_type": "code",
   "execution_count": 126,
   "outputs": [],
   "source": [
    "yreal = df_test[['y']].values\n",
    "\n",
    "yhat = forecast[['yhat']]\n",
    "yhat = yhat[length - PEROIDS:length].values"
   ],
   "metadata": {
    "collapsed": false,
    "pycharm": {
     "name": "#%%\n",
     "is_executing": false
    }
   }
  },
  {
   "cell_type": "code",
   "execution_count": 127,
   "outputs": [
    {
     "data": {
      "text/plain": "<Figure size 432x288 with 1 Axes>",
      "image/png": "[encoded data removed]"
     },
     "metadata": {
      "needs_background": "light"
     },
     "output_type": "display_data"
    }
   ],
   "source": [
    "plt.title(' ')\n",
    "plt.plot(yhat, 'r', label='prediction')\n",
    "plt.plot(yreal, 'b', label='real')\n",
    "plt.legend(loc='best')\n",
    "plt.savefig(pic_name)\n",
    "plt.show()\n"
   ],
   "metadata": {
    "collapsed": false,
    "pycharm": {
     "name": "#%%\n",
     "is_executing": false
    }
   }
  },
  {
   "cell_type": "code",
   "execution_count": 128,
   "outputs": [
    {
     "name": "stdout",
     "text": [
      "港口对： Yingkou_Qinzhou\n预测变量：  AMT\nMSE= 1579694.1042654433\nMAE= 1255.9543511793656\nR_square= -1449.5787508802184\n平均误差为[37.40239128]%\n"
     ],
     "output_type": "stream"
    }
   ],
   "source": [
    "def metrics(test,predict,harbor_pair,time_series):\n",
    "    # print( 'MSE均方误差,越小越好')\n",
    "    print('港口对：', harbor_pair)\n",
    "    print('预测变量： ', time_series)\n",
    "    mse = mean_squared_error(test, predict)\n",
    "    print(\"MSE=\", mse)\n",
    "\n",
    "    # print( 'MAE数值越小越好，可以通过对比判断好坏')\n",
    "    mae = mean_absolute_error(test, predict)\n",
    "    print(\"MAE=\", mae)\n",
    "\n",
    "    # print( 'R平方值，越接近1越好')\n",
    "    r2 = r2_score(test, predict)\n",
    "    print(\"R_square=\", r2)\n",
    "    \n",
    "    accu_all = 0\n",
    "    for i in range(len(predict)):\n",
    "        if int(test[i]) == 0:\n",
    "            continue\n",
    "        accu = abs(test[i]-predict[i])/test[i]\n",
    "        accu_all += accu\n",
    "    accu_avg = accu_all/len(predict)*100\n",
    "    print('平均误差为' + str(accu_avg) + '%')\n",
    "metrics(yreal,yhat,harbor_pair,time_series)\n"
   ],
   "metadata": {
    "collapsed": false,
    "pycharm": {
     "name": "#%%\n",
     "is_executing": false
    }
   }
  }
 ],
 "metadata": {
  "kernelspec": {
   "display_name": "Python 3",
   "language": "python",
   "name": "python3"
  },
  "language_info": {
   "codemirror_mode": {
    "name": "ipython",
    "version": 2
   },
   "file_extension": ".py",
   "mimetype": "text/x-python",
   "name": "python",
   "nbconvert_exporter": "python",
   "pygments_lexer": "ipython2",
   "version": "2.7.6"
  },
  "pycharm": {
   "stem_cell": {
    "cell_type": "raw",
    "source": [],
    "metadata": {
     "collapsed": false
    }
   }
  }
 },
 "nbformat": 4,
 "nbformat_minor": 0
}