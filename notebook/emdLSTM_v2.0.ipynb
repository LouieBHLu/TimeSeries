{
 "cells": [
  {
   "cell_type": "code",
   "execution_count": 2,
   "metadata": {
    "pycharm": {
     "is_executing": false
    }
   },
   "outputs": [],
   "source": [
    "import numpy as np\n",
    "from numpy import array\n",
    "import tensorflow as tf\n",
    "from tensorflow.keras.models import Sequential\n",
    "from tensorflow.keras.layers import LSTM\n",
    "from tensorflow.keras.layers import Dense\n",
    "from tensorflow.keras.layers import Bidirectional\n",
    "from tensorflow.keras.callbacks import EarlyStopping\n",
    "import pandas as pd\n",
    "import matplotlib.pyplot as plt\n",
    "from PyEMD import CEEMDAN\n",
    "from PyEMD import EMD\n",
    "from PyEMD import EEMD\n",
    "from sklearn.metrics import mean_squared_error\n",
    "from sklearn.metrics import mean_absolute_error\n",
    "from sklearn.metrics import r2_score\n",
    "# from tqdm import tqdm\n",
    "from numpy import hstack\n",
    "tf.random.set_seed(10.0)\n",
    "\n",
    "N_STEPS =  7 #用多少天/周预测一天/周\n",
    "N_FEATURES = 1 #用来预测的总变量数，如果同时适用销量和定价来预测销量的话这里改成2，以此类推\n",
    "PRED_DAYS = 7 #预测多少天"
   ]
  },
  {
   "cell_type": "code",
   "execution_count": 4,
   "metadata": {
    "pycharm": {
     "is_executing": false
    }
   },
   "outputs": [],
   "source": [
    "# 用来分割原数据集使得数据集变成能训练的形状\n",
    "def splitSequence(sequence, n_steps):\n",
    "    X, y = list(), list()\n",
    "    for i in range(len(sequence)):\n",
    "        # find the end of this pattern\n",
    "        end_ix = i + n_steps\n",
    "        # check if we are beyond the sequence\n",
    "        if end_ix > len(sequence)-1:\n",
    "            break\n",
    "        # gather input and output parts of the pattern\n",
    "        seq_x, seq_y = sequence[i:end_ix], sequence[end_ix]\n",
    "        X.append(seq_x)\n",
    "        y.append(seq_y)\n",
    "    return array(X), array(y)"
   ]
  },
  {
   "cell_type": "code",
   "execution_count": 5,
   "metadata": {
    "pycharm": {
     "is_executing": false
    }
   },
   "outputs": [],
   "source": [
    "#读数据集，tableName是数据集的文件名，columnName是数据集的列名\n",
    "def readData(tableName,columnName):\n",
    "    date_read = pd.read_csv(tableName)\n",
    "    dataset = date_read[columnName].values\n",
    "    dataset = dataset.astype('float32')\n",
    "    maxValue = np.max(dataset)  # 获得最大值\n",
    "    minValue = np.min(dataset)\n",
    "    scalar = maxValue - minValue  # 获得间隔数量\n",
    "    #dataset = list(map(lambda x: (x - minValue) / scalar, dataset))\n",
    "    return dataset"
   ]
  },
  {
   "cell_type": "code",
   "execution_count": 6,
   "metadata": {
    "pycharm": {
     "is_executing": false
    }
   },
   "outputs": [],
   "source": [
    "#归一化数据\n",
    "def normalizeData(dataset):\n",
    "    maxValue = np.max(dataset)  # 获得最大值\n",
    "    minValue = np.min(dataset)\n",
    "    scalar = maxValue - minValue  # 获得间隔数量\n",
    "    dataset = list(map(lambda x: (x - minValue) / scalar, dataset))\n",
    "    return dataset, scalar, minValue"
   ]
  },
  {
   "cell_type": "code",
   "execution_count": 7,
   "metadata": {
    "pycharm": {
     "is_executing": false
    }
   },
   "outputs": [],
   "source": [
    "#对总数据集进行分割，获取训练集X_train，y_train，预测集X_test，y_test\n",
    "#预测集不会放入模型中训练，是用训练好的模型输入X_test得到结果来和y_test比较\n",
    "def getTrainAndTest(dataset):\n",
    "    X_all, y_all = splitSequence(dataset, N_STEPS)\n",
    "    X_all = X_all.reshape((X_all.shape[0], X_all.shape[1], N_FEATURES))\n",
    "    # 这个常数需要自行修改，根据下面的代码可以知道，这个常数是将总数据集进行分割。分割后的效果应该是X_test的长度正好是之前定义的预测的天数\n",
    "    # 然而由于本人数学能力有限，并未写成计算公式，而本人在使用过程中也是自己乱凑的常数\n",
    "    # 如果在训练过程中发现“。。。。can not put into the shape (。。。)”之类的报错，多半是这个常数设错了\n",
    "    train_size = len(y_all) - PRED_DAYS\n",
    "    print(train_size)\n",
    "    test_size = len(X_all) - train_size\n",
    "\n",
    "    # Check the size of test data\n",
    "    # 好像check出来也不一定对，不去管它\n",
    "    print(test_size)\n",
    "    \n",
    "    X_train = X_all[:train_size]\n",
    "    y_train = y_all[:train_size]\n",
    "    X_test = X_all[train_size:]\n",
    "    y_test = y_all[train_size:]\n",
    "\n",
    "    return X_train, y_train, X_test, y_test"
   ]
  },
  {
   "cell_type": "code",
   "execution_count": 8,
   "metadata": {
    "pycharm": {
     "is_executing": false
    }
   },
   "outputs": [],
   "source": [
    "# 用TensorFlow实现的LSTM模块，输入训练集X_train，y_train进行训练，输入X_test进行预测\n",
    "# 输出预测结果yhat\n",
    "# reference: https://machinelearningmastery.com/how-to-develop-lstm-models-for-time-series-forecasting/\n",
    "def trainAndPred(X_train, y_train, X_test):\n",
    "    modelDouble = Sequential()\n",
    "    # 这里使用了bidirectional，其实改成单向也可以\n",
    "    modelDouble.add(Bidirectional(LSTM(50, activation='relu'), input_shape=(N_STEPS, N_FEATURES)))\n",
    "    # modelDouble.add(LSTM(50, activation='relu', input_shape=(N_STEPS, N_FEATURES)))\n",
    "    modelDouble.add(Dense(1))\n",
    "    modelDouble.compile(optimizer='adam', loss='mse')\n",
    "    # 这里使用了callback机制防止过拟合，实践证明效果很好\n",
    "    callback = EarlyStopping(monitor='loss', patience=10)\n",
    "    # modelDouble.fit(X_train, y_train, epochs=500, verbose=0, callbacks=[callback], batch_size=5)\n",
    "    modelDouble.fit(X_train, y_train, epochs=1500, verbose=0, callbacks=[callback], batch_size=5)\n",
    "    x_input = X_test\n",
    "\n",
    "    # Check the size of test data\n",
    "    print(x_input.shape)\n",
    "    \n",
    "    x_input = x_input.reshape((PRED_DAYS, N_STEPS, N_FEATURES))\n",
    "    yhat = modelDouble.predict(x_input, verbose=0)\n",
    "    return yhat"
   ]
  },
  {
   "cell_type": "code",
   "execution_count": 9,
   "metadata": {
    "pycharm": {
     "is_executing": false
    }
   },
   "outputs": [],
   "source": [
    "# 将此前归一化的数据反归一化\n",
    "# 由于出现了bug，暂时不考虑使用归一化\n",
    "def returnNormal(scalar, minValue, y_hat, y_test):\n",
    "    pred_y = list(map(lambda x: x * scalar + minValue, y_hat))\n",
    "    real_y = list(map(lambda x: x * scalar + minValue, y_test))\n",
    "    return pred_y, real_y"
   ]
  },
  {
   "cell_type": "code",
   "execution_count": 10,
   "metadata": {
    "pycharm": {
     "is_executing": false
    }
   },
   "outputs": [],
   "source": [
    "# 搞的基于EMD算法的LSTM\n",
    "# 具体原理：https://www.hindawi.com/journals/complexity/2020/6431712/\n",
    "def emdLSTM(dataset):\n",
    "    # ceemdan = EEMD()\n",
    "    ceemdan = EMD()\n",
    "    IMFs = ceemdan.emd(dataset)\n",
    "    print(type(IMFs))\n",
    "    [rows, columns] = IMFs.shape\n",
    "    yhatResult = 0\n",
    "    # yhatResult = np.zeros((PRED_DAYS,1))\n",
    "    for n, imf in enumerate(IMFs):\n",
    "        tempDataSet = imf\n",
    "        #print('--------------------------------------')\n",
    "        # myDataSet, myScalar, myMinValue = normalizeData(tempDataSet)\n",
    "        X_train, y_train, X_test, y_test = getTrainAndTest(tempDataSet)\n",
    "        pred_y = trainAndPred(X_train, y_train, X_test)\n",
    "        # pred_y, _ = returnNormal(myScalar, myMinValue, yhat, y_test)\n",
    "        # print(pred_y)\n",
    "        yhatResult = pred_y + yhatResult\n",
    "    print(yhatResult)\n",
    "    return yhatResult"
   ]
  },
  {
   "cell_type": "code",
   "execution_count": 11,
   "metadata": {
    "pycharm": {
     "is_executing": false
    }
   },
   "outputs": [],
   "source": [
    "# 一些判断模型的评判标准\n",
    "def metrics(test,predict):\n",
    "    print( 'MSE均方误差,越小越好')\n",
    "    mse = mean_squared_error(test, predict)\n",
    "    print(\"MSE=\", mse)\n",
    "\n",
    "    print( 'MAE数值越小越好，可以通过对比判断好坏')\n",
    "    mae = mean_absolute_error(test, predict)\n",
    "    print(\"MAE=\", mae)\n",
    "\n",
    "    print( 'R平方值，越接近1越好')\n",
    "    r2 = r2_score(test, predict)\n",
    "    print(\"R_square=\", r2)\n",
    "    \n",
    "    accu_all = 0\n",
    "    for i in range(len(predict)):\n",
    "        if int(test[i]) == 0:\n",
    "            continue\n",
    "        accu = abs(test[i]-predict[i])/test[i]\n",
    "        accu_all += accu\n",
    "    accu_avg = accu_all/len(predict)*100\n",
    "    print('平均误差为' + str(accu_avg) + '%')"
   ]
  },
  {
   "cell_type": "code",
   "execution_count": 12,
   "metadata": {
    "pycharm": {
     "is_executing": false
    }
   },
   "outputs": [
    {
     "data": {
      "text/plain": "(181,)"
     },
     "metadata": {},
     "output_type": "execute_result",
     "execution_count": 12
    }
   ],
   "source": [
    "# 读数据\n",
    "dataset = readData('Nansha_Yingkou_after_add.csv', 'NUM_BOX')\n",
    "dataset.shape\n",
    "#print(dataset_together)"
   ]
  },
  {
   "cell_type": "code",
   "execution_count": 13,
   "metadata": {
    "pycharm": {
     "is_executing": false
    }
   },
   "outputs": [
    {
     "name": "stdout",
     "text": [
      "167\n7\n[1. 1. 3. 7. 3. 1. 1.]\n"
     ],
     "output_type": "stream"
    }
   ],
   "source": [
    "# 获得训练集预测集 \n",
    "#dataset, scalar, minValue = normalizeData(dataset)\n",
    "X_train, y_train, X_test, y_test = getTrainAndTest(dataset)\n",
    "print(y_test)"
   ]
  },
  {
   "cell_type": "code",
   "execution_count": 14,
   "metadata": {
    "pycharm": {
     "is_executing": false
    }
   },
   "outputs": [
    {
     "name": "stdout",
     "text": [
      "<class 'numpy.ndarray'>\n167\n7\n",
      "(7, 7, 1)\n",
      "167\n7\n",
      "(7, 7, 1)\n",
      "167\n7\n",
      "(7, 7, 1)\n",
      "167\n7\n",
      "(7, 7, 1)\n",
      "167\n7\n",
      "(7, 7, 1)\n",
      "167\n7\n",
      "(7, 7, 1)\n",
      "167\n7\n",
      "(7, 7, 1)\n",
      "[[1.5359497]\n [2.6444404]\n [3.0082319]\n [4.363965 ]\n [2.947407 ]\n [2.8779464]\n [2.5472906]]\n[[1.5359497]\n [2.6444404]\n [3.0082319]\n [4.363965 ]\n [2.947407 ]\n [2.8779464]\n [2.5472906]]\n"
     ],
     "output_type": "stream"
    }
   ],
   "source": [
    "yhat = emdLSTM(dataset) #使用EMD-LSTM用这一行\n",
    "#yhat = trainAndPred(X_train, y_train, X_test) #使用一般LSTM用这一行\n",
    "#y_pred = returnNormal(scalar, minValue, yhat, y_test)\n",
    "print(yhat)"
   ]
  },
  {
   "cell_type": "code",
   "execution_count": 15,
   "metadata": {
    "pycharm": {
     "is_executing": false
    }
   },
   "outputs": [
    {
     "name": "stdout",
     "text": [
      "MSE均方误差,越小越好\nMSE= 2.2662473\nMAE数值越小越好，可以通过对比判断好坏\nMAE= 1.1860695\nR平方值，越接近1越好\nR_square= 0.46612438480491336\n平均误差为[85.749695]%\n"
     ],
     "output_type": "stream"
    },
    {
     "data": {
      "text/plain": "<Figure size 432x288 with 1 Axes>",
      "image/png": "[encoded data removed]"
     },
     "metadata": {
      "needs_background": "light"
     },
     "output_type": "display_data"
    }
   ],
   "source": [
    "# 打印评判标准\n",
    "metrics(y_test, yhat)\n",
    "\n",
    "# 可视化作图\n",
    "plt.title(' ')\n",
    "plt.plot(yhat, 'r', label='prediction')\n",
    "plt.plot(y_test, 'b', label='real')\n",
    "\n",
    "plt.legend(loc='best')\n",
    "plt.savefig('emd.png')\n",
    "plt.show()"
   ]
  },
  {
   "cell_type": "code",
   "execution_count": null,
   "metadata": {},
   "outputs": [],
   "source": []
  }
 ],
 "metadata": {
  "kernelspec": {
   "display_name": "Python 3",
   "language": "python",
   "name": "python3"
  },
  "language_info": {
   "codemirror_mode": {
    "name": "ipython",
    "version": 3
   },
   "file_extension": ".py",
   "mimetype": "text/x-python",
   "name": "python",
   "nbconvert_exporter": "python",
   "pygments_lexer": "ipython3",
   "version": "3.8.5"
  }
 },
 "nbformat": 4,
 "nbformat_minor": 2
}